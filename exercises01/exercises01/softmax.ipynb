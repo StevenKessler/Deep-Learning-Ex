{
 "cells": [
  {
   "cell_type": "markdown",
   "metadata": {},
   "source": [
    "***\n",
    "<p style=\"text-align:left;\">Deep Learning\n",
    "<span style=\"float:right;\">Thursday, 30. April 2020</span></p>\n",
    "\n",
    "<p style=\"text-align:left;\">Prof. S. Harmeling\n",
    "<span style=\"float:right;\">DUE 23:55 Wednesday, 06. May 2020</span></p>\n",
    "\n",
    "---\n",
    "<p style=\"text-align:center;\"><b>Exercise set #2</b></p>\n",
    "\n",
    "# Softmax classifier\n",
    "\n",
    "This exercise is analogous to the SVM exercise. You will:\n",
    "\n",
    "- implement a fully-vectorized loss function for the Softmax classifier\n",
    "- implement the fully-vectorized expression for its analytic gradient\n",
    "- check your implementation with numerical gradient\n",
    "- use a validation set to tune the learning rate and regularization strength\n",
    "- optimize the loss function with SGD\n",
    "- visualize the final learned weights\n",
    "\n",
    "<b>This exercise is copied from Fei-Fei Li course cs231n in Stanford, http://cs231n.stanford.edu/2018/ . Used with permission. </b>\n"
   ]
  },
  {
   "cell_type": "code",
   "execution_count": 1,
   "metadata": {},
   "outputs": [],
   "source": [
    "from __future__ import print_function\n",
    "\n",
    "import random\n",
    "import numpy as np\n",
    "from cs231n.data_utils import load_CIFAR10\n",
    "import matplotlib.pyplot as plt\n",
    "\n",
    "%matplotlib inline\n",
    "plt.rcParams['figure.figsize'] = (10.0, 8.0) # set default size of plots\n",
    "plt.rcParams['image.interpolation'] = 'nearest'\n",
    "plt.rcParams['image.cmap'] = 'gray'\n",
    "\n",
    "# for auto-reloading extenrnal modules\n",
    "# see http://stackoverflow.com/questions/1907993/autoreload-of-modules-in-ipython\n",
    "%load_ext autoreload\n",
    "%autoreload 2"
   ]
  },
  {
   "cell_type": "code",
   "execution_count": 2,
   "metadata": {},
   "outputs": [
    {
     "name": "stdout",
     "output_type": "stream",
     "text": [
      "Train data shape:  (49000, 3073)\n",
      "Train labels shape:  (49000,)\n",
      "Validation data shape:  (1000, 3073)\n",
      "Validation labels shape:  (1000,)\n",
      "Test data shape:  (1000, 3073)\n",
      "Test labels shape:  (1000,)\n",
      "dev data shape:  (500, 3073)\n",
      "dev labels shape:  (500,)\n"
     ]
    }
   ],
   "source": [
    "def get_CIFAR10_data(num_training=49000, num_validation=1000, num_test=1000, num_dev=500):\n",
    "    \"\"\"\n",
    "    Load the CIFAR-10 dataset from disk and perform preprocessing to prepare\n",
    "    it for the linear classifier. These are the same steps as we used for the\n",
    "    SVM, but condensed to a single function.  \n",
    "    \"\"\"\n",
    "    # Load the raw CIFAR-10 data\n",
    "    cifar10_dir = 'cs231n/datasets/cifar-10-batches-py'\n",
    "    \n",
    "    X_train, y_train, X_test, y_test = load_CIFAR10(cifar10_dir)\n",
    "    \n",
    "    # subsample the data\n",
    "    mask = list(range(num_training, num_training + num_validation))\n",
    "    X_val = X_train[mask]\n",
    "    y_val = y_train[mask]\n",
    "    mask = list(range(num_training))\n",
    "    X_train = X_train[mask]\n",
    "    y_train = y_train[mask]\n",
    "    mask = list(range(num_test))\n",
    "    X_test = X_test[mask]\n",
    "    y_test = y_test[mask]\n",
    "    mask = np.random.choice(num_training, num_dev, replace=False)\n",
    "    X_dev = X_train[mask]\n",
    "    y_dev = y_train[mask]\n",
    "    \n",
    "    # Preprocessing: reshape the image data into rows\n",
    "    X_train = np.reshape(X_train, (X_train.shape[0], -1))\n",
    "    X_val = np.reshape(X_val, (X_val.shape[0], -1))\n",
    "    X_test = np.reshape(X_test, (X_test.shape[0], -1))\n",
    "    X_dev = np.reshape(X_dev, (X_dev.shape[0], -1))\n",
    "    \n",
    "    # Normalize the data: subtract the mean image\n",
    "    mean_image = np.mean(X_train, axis = 0)\n",
    "    X_train -= mean_image\n",
    "    X_val -= mean_image\n",
    "    X_test -= mean_image\n",
    "    X_dev -= mean_image\n",
    "    \n",
    "    # add bias dimension and transform into columns\n",
    "    X_train = np.hstack([X_train, np.ones((X_train.shape[0], 1))])\n",
    "    X_val = np.hstack([X_val, np.ones((X_val.shape[0], 1))])\n",
    "    X_test = np.hstack([X_test, np.ones((X_test.shape[0], 1))])\n",
    "    X_dev = np.hstack([X_dev, np.ones((X_dev.shape[0], 1))])\n",
    "    \n",
    "    return X_train, y_train, X_val, y_val, X_test, y_test, X_dev, y_dev\n",
    "\n",
    "\n",
    "# Cleaning up variables to prevent loading data multiple times (which may cause memory issue)\n",
    "try:\n",
    "   del X_train, y_train\n",
    "   del X_test, y_test\n",
    "   print('Clear previously loaded data.')\n",
    "except:\n",
    "   pass\n",
    "\n",
    "# Invoke the above function to get our data.\n",
    "X_train, y_train, X_val, y_val, X_test, y_test, X_dev, y_dev = get_CIFAR10_data()\n",
    "print('Train data shape: ', X_train.shape)\n",
    "print('Train labels shape: ', y_train.shape)\n",
    "print('Validation data shape: ', X_val.shape)\n",
    "print('Validation labels shape: ', y_val.shape)\n",
    "print('Test data shape: ', X_test.shape)\n",
    "print('Test labels shape: ', y_test.shape)\n",
    "print('dev data shape: ', X_dev.shape)\n",
    "print('dev labels shape: ', y_dev.shape)"
   ]
  },
  {
   "cell_type": "markdown",
   "metadata": {},
   "source": [
    "## Softmax Classifier\n",
    "\n",
    "Your code for this section will all be written inside **cs231n/classifiers/softmax.py**. \n"
   ]
  },
  {
   "cell_type": "code",
   "execution_count": 24,
   "metadata": {},
   "outputs": [
    {
     "name": "stdout",
     "output_type": "stream",
     "text": [
      "loss: 2.300914\n",
      "sanity check: 2.302585\n"
     ]
    }
   ],
   "source": [
    "# First implement the naive softmax loss function with nested loops.\n",
    "# Open the file cs231n/classifiers/softmax.py and implement the\n",
    "# softmax_loss_naive function.\n",
    "\n",
    "from cs231n.classifiers.softmax import softmax_loss_naive\n",
    "import time\n",
    "\n",
    "# Generate a random softmax weight matrix and use it to compute the loss.\n",
    "W = np.random.randn(3073, 10) * 0.0001\n",
    "loss, grad = softmax_loss_naive(W, X_dev, y_dev, 0.0)\n",
    "\n",
    "# As a rough sanity check, our loss should be something close to -log(0.1).\n",
    "print('loss: %f' % loss)\n",
    "print('sanity check: %f' % (-np.log(0.1)))"
   ]
  },
  {
   "cell_type": "markdown",
   "metadata": {},
   "source": [
    "## Inline Question 1:\n",
    "Why do we expect our loss to be close to -log(0.1)? Explain briefly.**\n",
    "\n",
    "**Your answer:** Softmax gives us a probability for each class label. As we have 10 classes, we would expect each class to have a probability of 0.1."
   ]
  },
  {
   "cell_type": "code",
   "execution_count": 30,
   "metadata": {},
   "outputs": [
    {
     "name": "stdout",
     "output_type": "stream",
     "text": [
      "numerical: 0.466278 analytic: 0.466278, relative error: 3.091405e-09\n",
      "numerical: -0.994086 analytic: -0.994086, relative error: 7.503316e-09\n",
      "numerical: 1.269418 analytic: 1.269418, relative error: 2.196348e-08\n",
      "numerical: -0.177177 analytic: -0.177177, relative error: 7.092072e-08\n",
      "numerical: 1.416172 analytic: 1.416172, relative error: 5.629471e-08\n",
      "numerical: -1.688952 analytic: -1.688952, relative error: 1.358712e-08\n",
      "numerical: -4.071462 analytic: -4.071462, relative error: 9.697768e-09\n",
      "numerical: 0.120887 analytic: 0.120887, relative error: 1.984522e-07\n",
      "numerical: -0.908474 analytic: -0.908474, relative error: 8.064376e-08\n",
      "numerical: -2.829328 analytic: -2.829328, relative error: 2.001689e-08\n",
      "numerical: 3.174499 analytic: 3.174499, relative error: 7.509831e-09\n",
      "numerical: 0.738120 analytic: 0.738120, relative error: 2.612714e-08\n",
      "numerical: -3.305455 analytic: -3.305455, relative error: 2.041403e-08\n",
      "numerical: -0.969229 analytic: -0.969229, relative error: 5.559228e-08\n",
      "numerical: 3.633016 analytic: 3.633016, relative error: 1.971497e-09\n",
      "numerical: -0.179124 analytic: -0.179124, relative error: 7.889610e-08\n",
      "numerical: -4.575242 analytic: -4.575242, relative error: 1.519609e-08\n",
      "numerical: -2.805283 analytic: -2.805283, relative error: 3.636465e-08\n",
      "numerical: 0.756264 analytic: 0.756264, relative error: 6.265259e-08\n",
      "numerical: -0.608856 analytic: -0.608856, relative error: 1.278957e-07\n"
     ]
    }
   ],
   "source": [
    "# Complete the implementation of softmax_loss_naive and implement a (naive)\n",
    "# version of the gradient that uses nested loops.\n",
    "loss, grad = softmax_loss_naive(W, X_dev, y_dev, 0.0)\n",
    "\n",
    "# As we did for the SVM, use numeric gradient checking as a debugging tool.\n",
    "# The numeric gradient should be close to the analytic gradient.\n",
    "from cs231n.gradient_check import grad_check_sparse\n",
    "f = lambda w: softmax_loss_naive(w, X_dev, y_dev, 0.0)[0]\n",
    "grad_numerical = grad_check_sparse(f, W, grad, 10)\n",
    "\n",
    "# similar to SVM case, do another gradient check with regularization\n",
    "loss, grad = softmax_loss_naive(W, X_dev, y_dev, 5e1)\n",
    "f = lambda w: softmax_loss_naive(w, X_dev, y_dev, 5e1)[0]\n",
    "grad_numerical = grad_check_sparse(f, W, grad, 10)"
   ]
  },
  {
   "cell_type": "code",
   "execution_count": 41,
   "metadata": {},
   "outputs": [
    {
     "name": "stdout",
     "output_type": "stream",
     "text": [
      "naive loss: 2.300914e+00 computed in 0.191860s\n",
      "vectorized loss: 2.300914e+00 computed in 0.003777s\n",
      "Loss difference: 0.000000\n",
      "Gradient difference: 0.000000\n"
     ]
    }
   ],
   "source": [
    "# Now that we have a naive implementation of the softmax loss function and its gradient,\n",
    "# implement a vectorized version in softmax_loss_vectorized.\n",
    "# The two versions should compute the same results, but the vectorized version should be\n",
    "# much faster.\n",
    "tic = time.time()\n",
    "loss_naive, grad_naive = softmax_loss_naive(W, X_dev, y_dev, 0.000005)\n",
    "toc = time.time()\n",
    "print('naive loss: %e computed in %fs' % (loss_naive, toc - tic))\n",
    "\n",
    "from cs231n.classifiers.softmax import softmax_loss_vectorized\n",
    "tic = time.time()\n",
    "loss_vectorized, grad_vectorized = softmax_loss_vectorized(W, X_dev, y_dev, 0.000005)\n",
    "toc = time.time()\n",
    "print('vectorized loss: %e computed in %fs' % (loss_vectorized, toc - tic))\n",
    "\n",
    "# As we did for the SVM, we use the Frobenius norm to compare the two versions\n",
    "# of the gradient.\n",
    "grad_difference = np.linalg.norm(grad_naive - grad_vectorized, ord='fro')\n",
    "print('Loss difference: %f' % np.abs(loss_naive - loss_vectorized))\n",
    "print('Gradient difference: %f' % grad_difference)"
   ]
  },
  {
   "cell_type": "code",
   "execution_count": 47,
   "metadata": {},
   "outputs": [
    {
     "name": "stdout",
     "output_type": "stream",
     "text": [
      "lr 1.000000e-08 reg 1.000000e+02 train accuracy: 0.142714 val accuracy: 0.146000\n",
      "lr 1.000000e-08 reg 1.000000e+03 train accuracy: 0.146041 val accuracy: 0.144000\n",
      "lr 1.000000e-08 reg 5.000000e+03 train accuracy: 0.141408 val accuracy: 0.155000\n",
      "lr 1.000000e-08 reg 2.500000e+04 train accuracy: 0.162653 val accuracy: 0.168000\n",
      "lr 1.000000e-08 reg 4.000000e+04 train accuracy: 0.165347 val accuracy: 0.180000\n",
      "lr 1.000000e-08 reg 5.000000e+04 train accuracy: 0.139367 val accuracy: 0.144000\n",
      "lr 1.000000e-08 reg 1.000000e+05 train accuracy: 0.196388 val accuracy: 0.211000\n",
      "lr 1.000000e-08 reg 2.500000e+05 train accuracy: 0.268571 val accuracy: 0.285000\n",
      "lr 1.000000e-08 reg 1.000000e+06 train accuracy: 0.250939 val accuracy: 0.263000\n",
      "lr 1.000000e-07 reg 1.000000e+02 train accuracy: 0.237449 val accuracy: 0.235000\n",
      "lr 1.000000e-07 reg 1.000000e+03 train accuracy: 0.242714 val accuracy: 0.255000\n",
      "lr 1.000000e-07 reg 5.000000e+03 train accuracy: 0.286449 val accuracy: 0.315000\n",
      "lr 1.000000e-07 reg 2.500000e+04 train accuracy: 0.327347 val accuracy: 0.348000\n",
      "lr 1.000000e-07 reg 4.000000e+04 train accuracy: 0.310714 val accuracy: 0.321000\n",
      "lr 1.000000e-07 reg 5.000000e+04 train accuracy: 0.307449 val accuracy: 0.317000\n",
      "lr 1.000000e-07 reg 1.000000e+05 train accuracy: 0.280449 val accuracy: 0.297000\n",
      "lr 1.000000e-07 reg 2.500000e+05 train accuracy: 0.276571 val accuracy: 0.285000\n",
      "lr 1.000000e-07 reg 1.000000e+06 train accuracy: 0.249245 val accuracy: 0.258000\n",
      "lr 1.000000e-06 reg 1.000000e+02 train accuracy: 0.344673 val accuracy: 0.347000\n",
      "lr 1.000000e-06 reg 1.000000e+03 train accuracy: 0.390796 val accuracy: 0.396000\n",
      "lr 1.000000e-06 reg 5.000000e+03 train accuracy: 0.366714 val accuracy: 0.378000\n",
      "lr 1.000000e-06 reg 2.500000e+04 train accuracy: 0.325408 val accuracy: 0.336000\n",
      "lr 1.000000e-06 reg 4.000000e+04 train accuracy: 0.303531 val accuracy: 0.323000\n",
      "lr 1.000000e-06 reg 5.000000e+04 train accuracy: 0.275408 val accuracy: 0.297000\n",
      "lr 1.000000e-06 reg 1.000000e+05 train accuracy: 0.265490 val accuracy: 0.276000\n",
      "lr 1.000000e-06 reg 2.500000e+05 train accuracy: 0.263061 val accuracy: 0.278000\n",
      "lr 1.000000e-06 reg 1.000000e+06 train accuracy: 0.067245 val accuracy: 0.086000\n",
      "lr 1.000000e-05 reg 1.000000e+02 train accuracy: 0.322408 val accuracy: 0.306000\n",
      "lr 1.000000e-05 reg 1.000000e+03 train accuracy: 0.288061 val accuracy: 0.293000\n",
      "lr 1.000000e-05 reg 5.000000e+03 train accuracy: 0.195633 val accuracy: 0.200000\n",
      "lr 1.000000e-05 reg 2.500000e+04 train accuracy: 0.107939 val accuracy: 0.093000\n",
      "lr 1.000000e-05 reg 4.000000e+04 train accuracy: 0.115735 val accuracy: 0.137000\n",
      "lr 1.000000e-05 reg 5.000000e+04 train accuracy: 0.079388 val accuracy: 0.068000\n",
      "lr 1.000000e-05 reg 1.000000e+05 train accuracy: 0.057510 val accuracy: 0.061000\n",
      "lr 1.000000e-05 reg 2.500000e+05 train accuracy: 0.100265 val accuracy: 0.087000\n",
      "lr 1.000000e-05 reg 1.000000e+06 train accuracy: 0.100265 val accuracy: 0.087000\n",
      "lr 1.000000e-04 reg 1.000000e+02 train accuracy: 0.225571 val accuracy: 0.245000\n",
      "lr 1.000000e-04 reg 1.000000e+03 train accuracy: 0.208531 val accuracy: 0.227000\n",
      "lr 1.000000e-04 reg 5.000000e+03 train accuracy: 0.073327 val accuracy: 0.091000\n",
      "lr 1.000000e-04 reg 2.500000e+04 train accuracy: 0.100265 val accuracy: 0.087000\n",
      "lr 1.000000e-04 reg 4.000000e+04 train accuracy: 0.100265 val accuracy: 0.087000\n",
      "lr 1.000000e-04 reg 5.000000e+04 train accuracy: 0.100265 val accuracy: 0.087000\n",
      "lr 1.000000e-04 reg 1.000000e+05 train accuracy: 0.100265 val accuracy: 0.087000\n",
      "lr 1.000000e-04 reg 2.500000e+05 train accuracy: 0.100265 val accuracy: 0.087000\n",
      "lr 1.000000e-04 reg 1.000000e+06 train accuracy: 0.100265 val accuracy: 0.087000\n",
      "lr 1.000000e-03 reg 1.000000e+02 train accuracy: 0.174592 val accuracy: 0.199000\n",
      "lr 1.000000e-03 reg 1.000000e+03 train accuracy: 0.087306 val accuracy: 0.093000\n",
      "lr 1.000000e-03 reg 5.000000e+03 train accuracy: 0.100265 val accuracy: 0.087000\n",
      "lr 1.000000e-03 reg 2.500000e+04 train accuracy: 0.100265 val accuracy: 0.087000\n",
      "lr 1.000000e-03 reg 4.000000e+04 train accuracy: 0.100265 val accuracy: 0.087000\n",
      "lr 1.000000e-03 reg 5.000000e+04 train accuracy: 0.100265 val accuracy: 0.087000\n",
      "lr 1.000000e-03 reg 1.000000e+05 train accuracy: 0.100265 val accuracy: 0.087000\n",
      "lr 1.000000e-03 reg 2.500000e+05 train accuracy: 0.100265 val accuracy: 0.087000\n",
      "lr 1.000000e-03 reg 1.000000e+06 train accuracy: 0.100265 val accuracy: 0.087000\n",
      "lr 1.000000e-02 reg 1.000000e+02 train accuracy: 0.107898 val accuracy: 0.108000\n",
      "lr 1.000000e-02 reg 1.000000e+03 train accuracy: 0.100265 val accuracy: 0.087000\n",
      "lr 1.000000e-02 reg 5.000000e+03 train accuracy: 0.100265 val accuracy: 0.087000\n",
      "lr 1.000000e-02 reg 2.500000e+04 train accuracy: 0.100265 val accuracy: 0.087000\n",
      "lr 1.000000e-02 reg 4.000000e+04 train accuracy: 0.100265 val accuracy: 0.087000\n",
      "lr 1.000000e-02 reg 5.000000e+04 train accuracy: 0.100265 val accuracy: 0.087000\n",
      "lr 1.000000e-02 reg 1.000000e+05 train accuracy: 0.100265 val accuracy: 0.087000\n",
      "lr 1.000000e-02 reg 2.500000e+05 train accuracy: 0.100265 val accuracy: 0.087000\n",
      "lr 1.000000e-02 reg 1.000000e+06 train accuracy: 0.100265 val accuracy: 0.087000\n",
      "best validation accuracy achieved during cross-validation: 0.396000\n"
     ]
    }
   ],
   "source": [
    "# Use the validation set to tune hyperparameters (regularization strength and\n",
    "# learning rate). You should experiment with different ranges for the learning\n",
    "# rates and regularization strengths; if you are careful you should be able to\n",
    "# get a classification accuracy of over 0.35 on the validation set.\n",
    "from cs231n.classifiers import Softmax\n",
    "results = {}\n",
    "best_val = -1\n",
    "best_softmax = None\n",
    "learning_rates = [1e-2, 1e-3, 1e-4, 1e-5, 1e-6, 1e-7, 1e-8]\n",
    "regularization_strengths = [2.5e4, 5e4, 1e3, 5e3, 1e2, 1e5, 1e6, 4e4, 2.5e5]\n",
    "\n",
    "################################################################################\n",
    "# TODO:                                                                        #\n",
    "# Use the validation set to set the learning rate and regularization strength. #\n",
    "# This should be identical to the validation that you did for the SVM; save    #\n",
    "# the best trained softmax classifer in best_softmax.                          #\n",
    "################################################################################\n",
    "# Your code\n",
    "################################################################################\n",
    "#                              END OF YOUR CODE                                #\n",
    "################################################################################\n",
    "for lr in learning_rates:\n",
    "    for re in regularization_strengths:\n",
    "        softmax = Softmax()\n",
    "        loss_hist = softmax.train(X_train, y_train, learning_rate=lr, reg=re,\n",
    "                              num_iters=2000, verbose=False)\n",
    "        \n",
    "        y_train_pred = softmax.predict(X_train)\n",
    "        training_acc=np.mean(y_train == y_train_pred)\n",
    "        y_val_pred = softmax.predict(X_val)\n",
    "        validation_acc=np.mean(y_val == y_val_pred)\n",
    "        \n",
    "        if best_val < validation_acc :\n",
    "            best_val=validation_acc\n",
    "            best_softmax=softmax            \n",
    "        results[(lr,re)]= training_acc, validation_acc\n",
    "# Print out results.\n",
    "for lr, reg in sorted(results):\n",
    "    train_accuracy, val_accuracy = results[(lr, reg)]\n",
    "    print('lr %e reg %e train accuracy: %f val accuracy: %f' % (\n",
    "                lr, reg, train_accuracy, val_accuracy))\n",
    "    \n",
    "print('best validation accuracy achieved during cross-validation: %f' % best_val)"
   ]
  },
  {
   "cell_type": "code",
   "execution_count": 48,
   "metadata": {},
   "outputs": [
    {
     "name": "stdout",
     "output_type": "stream",
     "text": [
      "softmax on raw pixels final test set accuracy: 0.378000\n"
     ]
    }
   ],
   "source": [
    "# evaluate on test set\n",
    "# Evaluate the best softmax on test set\n",
    "y_test_pred = best_softmax.predict(X_test)\n",
    "test_accuracy = np.mean(y_test == y_test_pred)\n",
    "print('softmax on raw pixels final test set accuracy: %f' % (test_accuracy, ))"
   ]
  },
  {
   "cell_type": "markdown",
   "metadata": {},
   "source": [
    "**Inline Question** - *True or False*\n",
    "\n",
    "It's possible to add a new datapoint to a training set that would leave the SVM loss unchanged, but this is not the case with the Softmax classifier loss.\n",
    "\n",
    "*Your answer*: True\n",
    "\n",
    "*Your explanation*: For the SVM loss, if the point is out of the range of the margin it wont affect the loss, but that is not true for the softmax loss."
   ]
  },
  {
   "cell_type": "code",
   "execution_count": 49,
   "metadata": {},
   "outputs": [
    {
     "data": {
      "image/png": "[encoded data removed]",
      "text/plain": [
       "<Figure size 720x576 with 10 Axes>"
      ]
     },
     "metadata": {
      "needs_background": "light"
     },
     "output_type": "display_data"
    }
   ],
   "source": [
    "# Visualize the learned weights for each class\n",
    "w = best_softmax.W[:-1,:] # strip out the bias\n",
    "w = w.reshape(32, 32, 3, 10)\n",
    "\n",
    "w_min, w_max = np.min(w), np.max(w)\n",
    "\n",
    "classes = ['plane', 'car', 'bird', 'cat', 'deer', 'dog', 'frog', 'horse', 'ship', 'truck']\n",
    "for i in range(10):\n",
    "    plt.subplot(2, 5, i + 1)\n",
    "    \n",
    "    # Rescale the weights to be between 0 and 255\n",
    "    wimg = 255.0 * (w[:, :, :, i].squeeze() - w_min) / (w_max - w_min)\n",
    "    plt.imshow(wimg.astype('uint8'))\n",
    "    plt.axis('off')\n",
    "    plt.title(classes[i])"
   ]
  }
 ],
 "metadata": {
  "kernelspec": {
   "display_name": "Python 3",
   "language": "python",
   "name": "python3"
  },
  "language_info": {
   "codemirror_mode": {
    "name": "ipython",
    "version": 3
   },
   "file_extension": ".py",
   "mimetype": "text/x-python",
   "name": "python",
   "nbconvert_exporter": "python",
   "pygments_lexer": "ipython3",
   "version": "3.7.6"
  }
 },
 "nbformat": 4,
 "nbformat_minor": 4
}
